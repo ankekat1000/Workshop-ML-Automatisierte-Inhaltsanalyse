{
 "cells": [
  {
   "cell_type": "markdown",
   "metadata": {},
   "source": [
    "# Einen Classifier machen - Schnelldurchlauf"
   ]
  },
  {
   "cell_type": "markdown",
   "metadata": {},
   "source": [
    "### 1 Daten einlesen und inspizieren"
   ]
  },
  {
   "cell_type": "markdown",
   "metadata": {},
   "source": [
    "Diesmal nehmen wir den Sentiment-Datensatz."
   ]
  },
  {
   "cell_type": "code",
   "execution_count": 1,
   "metadata": {},
   "outputs": [],
   "source": [
    "import pandas as pd"
   ]
  },
  {
   "cell_type": "code",
   "execution_count": 2,
   "metadata": {},
   "outputs": [],
   "source": [
    "df = pd.read_csv(\"Data Sets/Tweets_by_Sentiment_DataFrame.csv\")"
   ]
  },
  {
   "cell_type": "code",
   "execution_count": 3,
   "metadata": {},
   "outputs": [
    {
     "data": {
      "text/html": [
       "<div>\n",
       "<style scoped>\n",
       "    .dataframe tbody tr th:only-of-type {\n",
       "        vertical-align: middle;\n",
       "    }\n",
       "\n",
       "    .dataframe tbody tr th {\n",
       "        vertical-align: top;\n",
       "    }\n",
       "\n",
       "    .dataframe thead th {\n",
       "        text-align: right;\n",
       "    }\n",
       "</style>\n",
       "<table border=\"1\" class=\"dataframe\">\n",
       "  <thead>\n",
       "    <tr style=\"text-align: right;\">\n",
       "      <th></th>\n",
       "      <th>id</th>\n",
       "      <th>sentiment</th>\n",
       "      <th>text</th>\n",
       "    </tr>\n",
       "  </thead>\n",
       "  <tbody>\n",
       "    <tr>\n",
       "      <th>0</th>\n",
       "      <td>434314703540846592</td>\n",
       "      <td>negative</td>\n",
       "      <td>@MetroNorth wall to wall people on the platfor...</td>\n",
       "    </tr>\n",
       "    <tr>\n",
       "      <th>1</th>\n",
       "      <td>437424096238792704</td>\n",
       "      <td>negative</td>\n",
       "      <td>RT @katie_rohaley: School on Monday is just go...</td>\n",
       "    </tr>\n",
       "    <tr>\n",
       "      <th>2</th>\n",
       "      <td>435670962327941120</td>\n",
       "      <td>negative</td>\n",
       "      <td>Who needs sleep? It's not like I have a test t...</td>\n",
       "    </tr>\n",
       "    <tr>\n",
       "      <th>3</th>\n",
       "      <td>436698945432326144</td>\n",
       "      <td>neutral</td>\n",
       "      <td>@rob_yost -Hashtags can express humor, excitem...</td>\n",
       "    </tr>\n",
       "    <tr>\n",
       "      <th>4</th>\n",
       "      <td>428714340964130816</td>\n",
       "      <td>positive</td>\n",
       "      <td>Grades come out tomorrow #soexcited\\n432245861...</td>\n",
       "    </tr>\n",
       "    <tr>\n",
       "      <th>...</th>\n",
       "      <td>...</td>\n",
       "      <td>...</td>\n",
       "      <td>...</td>\n",
       "    </tr>\n",
       "    <tr>\n",
       "      <th>49462</th>\n",
       "      <td>640916034749263872</td>\n",
       "      <td>positive</td>\n",
       "      <td>I need to become a celebrity so I can just be ...</td>\n",
       "    </tr>\n",
       "    <tr>\n",
       "      <th>49463</th>\n",
       "      <td>641037652414742528</td>\n",
       "      <td>positive</td>\n",
       "      <td>Snoop dogg may be the funniest human alive</td>\n",
       "    </tr>\n",
       "    <tr>\n",
       "      <th>49464</th>\n",
       "      <td>641218824579215360</td>\n",
       "      <td>neutral</td>\n",
       "      <td>I'm only ok with 3rd floor playing Snoop Dogg ...</td>\n",
       "    </tr>\n",
       "    <tr>\n",
       "      <th>49465</th>\n",
       "      <td>641349309439479808</td>\n",
       "      <td>positive</td>\n",
       "      <td>SNOOP DOGG AKA SNOOPADELIC friday friday only ...</td>\n",
       "    </tr>\n",
       "    <tr>\n",
       "      <th>49466</th>\n",
       "      <td>641648318754516992</td>\n",
       "      <td>positive</td>\n",
       "      <td>I can't stop thinking about the fact that I'm ...</td>\n",
       "    </tr>\n",
       "  </tbody>\n",
       "</table>\n",
       "<p>49467 rows × 3 columns</p>\n",
       "</div>"
      ],
      "text/plain": [
       "                       id sentiment  \\\n",
       "0      434314703540846592  negative   \n",
       "1      437424096238792704  negative   \n",
       "2      435670962327941120  negative   \n",
       "3      436698945432326144   neutral   \n",
       "4      428714340964130816  positive   \n",
       "...                   ...       ...   \n",
       "49462  640916034749263872  positive   \n",
       "49463  641037652414742528  positive   \n",
       "49464  641218824579215360   neutral   \n",
       "49465  641349309439479808  positive   \n",
       "49466  641648318754516992  positive   \n",
       "\n",
       "                                                    text  \n",
       "0      @MetroNorth wall to wall people on the platfor...  \n",
       "1      RT @katie_rohaley: School on Monday is just go...  \n",
       "2      Who needs sleep? It's not like I have a test t...  \n",
       "3      @rob_yost -Hashtags can express humor, excitem...  \n",
       "4      Grades come out tomorrow #soexcited\\n432245861...  \n",
       "...                                                  ...  \n",
       "49462  I need to become a celebrity so I can just be ...  \n",
       "49463         Snoop dogg may be the funniest human alive  \n",
       "49464  I'm only ok with 3rd floor playing Snoop Dogg ...  \n",
       "49465  SNOOP DOGG AKA SNOOPADELIC friday friday only ...  \n",
       "49466  I can't stop thinking about the fact that I'm ...  \n",
       "\n",
       "[49467 rows x 3 columns]"
      ]
     },
     "execution_count": 3,
     "metadata": {},
     "output_type": "execute_result"
    }
   ],
   "source": [
    "df"
   ]
  },
  {
   "cell_type": "code",
   "execution_count": 4,
   "metadata": {},
   "outputs": [
    {
     "data": {
      "text/plain": [
       "neutral     22182\n",
       "positive    19572\n",
       "negative     7713\n",
       "Name: sentiment, dtype: int64"
      ]
     },
     "execution_count": 4,
     "metadata": {},
     "output_type": "execute_result"
    }
   ],
   "source": [
    "df[\"sentiment\"].value_counts() #Überblick zu den Werten in einer Spalte."
   ]
  },
  {
   "cell_type": "markdown",
   "metadata": {},
   "source": [
    "## 2 Classification Function festlegen"
   ]
  },
  {
   "cell_type": "markdown",
   "metadata": {},
   "source": [
    "Wähle eine Funktion aus der `sklearn`-Bibliothek aus und speicher sie hab als dein model."
   ]
  },
  {
   "cell_type": "code",
   "execution_count": 5,
   "metadata": {},
   "outputs": [],
   "source": [
    "from sklearn.linear_model import LogisticRegression\n",
    "#from sklearn.neighbors import KNeighborsClassifier\n",
    "#from sklearn.naive_bayes import MultinomialNB\n",
    "#from sklearn.svm import SVC"
   ]
  },
  {
   "cell_type": "code",
   "execution_count": 6,
   "metadata": {},
   "outputs": [],
   "source": [
    "model = LogisticRegression(max_iter=1000) #Diesmal wird es länger dauern,...\n",
    "#...weil wir eine langsame Funktion wählen und mehr Daten haben.\n",
    "#Die Einstellung zu den Interationen müssen wir erhöhen, sonst können wir das Training später nicht beenden (Spolier)."
   ]
  },
  {
   "cell_type": "markdown",
   "metadata": {},
   "source": [
    "## 3 Daten aufteilen in Train und Test"
   ]
  },
  {
   "cell_type": "code",
   "execution_count": 7,
   "metadata": {},
   "outputs": [],
   "source": [
    "from sklearn.model_selection import train_test_split"
   ]
  },
  {
   "cell_type": "code",
   "execution_count": 8,
   "metadata": {},
   "outputs": [],
   "source": [
    "X_train, X_test, y_train, y_test = train_test_split(df[\"text\"], #X is your pandas column with the documents.\n",
    "                                                    df[\"sentiment\"], #y is your pandas coulmn with category.\n",
    "                                                    test_size=0.33,#Relative size of the test set. e.g. 33% \n",
    "                                                    random_state=42) #Chose a number to reproduce the split."
   ]
  },
  {
   "cell_type": "markdown",
   "metadata": {},
   "source": [
    "## 4 Text zu Features "
   ]
  },
  {
   "cell_type": "markdown",
   "metadata": {},
   "source": [
    "Vektorisiere die Text Spalte im Train Set mit dem `CountVectorizer` und der Funktion `fit_transform`.\n"
   ]
  },
  {
   "cell_type": "code",
   "execution_count": 9,
   "metadata": {},
   "outputs": [],
   "source": [
    "from sklearn.feature_extraction.text import CountVectorizer"
   ]
  },
  {
   "cell_type": "code",
   "execution_count": 10,
   "metadata": {},
   "outputs": [],
   "source": [
    "vec = CountVectorizer(ngram_range=(1,2)) #Wähle z.B. Unigramme und Bigramme als Features."
   ]
  },
  {
   "cell_type": "code",
   "execution_count": 11,
   "metadata": {},
   "outputs": [],
   "source": [
    "X_train_vec = vec.fit_transform(X_train)"
   ]
  },
  {
   "cell_type": "markdown",
   "metadata": {},
   "source": [
    "## 5 Trainiere das Model"
   ]
  },
  {
   "cell_type": "markdown",
   "metadata": {},
   "source": [
    "Trainiere das Model nur an den Trainingsdaten (X_train_vec und y_train)"
   ]
  },
  {
   "cell_type": "code",
   "execution_count": 12,
   "metadata": {},
   "outputs": [
    {
     "name": "stdout",
     "output_type": "stream",
     "text": [
      "Wall time: 1min 18s\n"
     ]
    },
    {
     "data": {
      "text/plain": [
       "LogisticRegression(max_iter=1000)"
      ]
     },
     "execution_count": 12,
     "metadata": {},
     "output_type": "execute_result"
    }
   ],
   "source": [
    "%time model.fit(X_train_vec, y_train) #Fit the model, what means training. Wenn wir %time davor schreiben,...\n",
    "#... wird uns die Zeit ausgegeben, die das Model zum Trainieren gebraucht hat."
   ]
  },
  {
   "cell_type": "markdown",
   "metadata": {},
   "source": [
    "## 6 Predict "
   ]
  },
  {
   "cell_type": "markdown",
   "metadata": {},
   "source": [
    "Perdicte mit dem trainierten Model nun die y-Werte auf dem Test-Datensatz! Vektorisiere die Texte im Test Set vorher mit der Funktion `transform` deines Vektorizers."
   ]
  },
  {
   "cell_type": "code",
   "execution_count": 13,
   "metadata": {},
   "outputs": [],
   "source": [
    "X_test_vec = vec.transform(X_test)"
   ]
  },
  {
   "cell_type": "code",
   "execution_count": 14,
   "metadata": {},
   "outputs": [],
   "source": [
    "pred_y=model.predict(X_test_vec)"
   ]
  },
  {
   "cell_type": "markdown",
   "metadata": {},
   "source": [
    "## 7 Evaluate"
   ]
  },
  {
   "cell_type": "code",
   "execution_count": 15,
   "metadata": {},
   "outputs": [],
   "source": [
    "from sklearn.metrics import classification_report"
   ]
  },
  {
   "cell_type": "code",
   "execution_count": 16,
   "metadata": {},
   "outputs": [
    {
     "name": "stdout",
     "output_type": "stream",
     "text": [
      "              precision    recall  f1-score   support\n",
      "\n",
      "    negative       0.61      0.37      0.46      2552\n",
      "     neutral       0.62      0.74      0.67      7246\n",
      "    positive       0.70      0.66      0.68      6527\n",
      "\n",
      "    accuracy                           0.65     16325\n",
      "   macro avg       0.64      0.59      0.61     16325\n",
      "weighted avg       0.65      0.65      0.64     16325\n",
      "\n"
     ]
    }
   ],
   "source": [
    "print(classification_report(y_test, pred_y))"
   ]
  },
  {
   "cell_type": "markdown",
   "metadata": {},
   "source": [
    "# Fertig!"
   ]
  }
 ],
 "metadata": {
  "kernelspec": {
   "display_name": "Python 3",
   "language": "python",
   "name": "python3"
  },
  "language_info": {
   "codemirror_mode": {
    "name": "ipython",
    "version": 3
   },
   "file_extension": ".py",
   "mimetype": "text/x-python",
   "name": "python",
   "nbconvert_exporter": "python",
   "pygments_lexer": "ipython3",
   "version": "3.8.5"
  }
 },
 "nbformat": 4,
 "nbformat_minor": 4
}
