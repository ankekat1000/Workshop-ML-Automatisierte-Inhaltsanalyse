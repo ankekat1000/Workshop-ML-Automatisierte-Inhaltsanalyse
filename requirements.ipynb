{
 "cells": [
  {
   "cell_type": "markdown",
   "id": "expressed-saturn",
   "metadata": {},
   "source": [
    "# Requirements"
   ]
  },
  {
   "cell_type": "markdown",
   "id": "automated-penny",
   "metadata": {},
   "source": [
    "Dies sind die Packages, die wir für den Workshop brauchen. Führe einfach den Code in den folgenden Zeilen aus, um die Packages zu importieren. Erscheint eine Fehlermeldung, musst du das Package noch installieren (siehe Video-Tutorial auf der Workshop-Website)."
   ]
  },
  {
   "cell_type": "code",
   "execution_count": 1,
   "id": "apparent-necklace",
   "metadata": {},
   "outputs": [],
   "source": [
    "import pandas"
   ]
  },
  {
   "cell_type": "code",
   "execution_count": 2,
   "id": "broadband-acting",
   "metadata": {},
   "outputs": [],
   "source": [
    "import re"
   ]
  },
  {
   "cell_type": "code",
   "execution_count": 3,
   "id": "oriental-vulnerability",
   "metadata": {},
   "outputs": [],
   "source": [
    "import numpy"
   ]
  },
  {
   "cell_type": "code",
   "execution_count": 4,
   "id": "perfect-cuisine",
   "metadata": {},
   "outputs": [],
   "source": [
    "import sklearn"
   ]
  }
 ],
 "metadata": {
  "kernelspec": {
   "display_name": "Python 3",
   "language": "python",
   "name": "python3"
  },
  "language_info": {
   "codemirror_mode": {
    "name": "ipython",
    "version": 3
   },
   "file_extension": ".py",
   "mimetype": "text/x-python",
   "name": "python",
   "nbconvert_exporter": "python",
   "pygments_lexer": "ipython3",
   "version": "3.8.5"
  }
 },
 "nbformat": 4,
 "nbformat_minor": 5
}
