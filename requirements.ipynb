{
 "cells": [
  {
   "cell_type": "markdown",
   "id": "expressed-saturn",
   "metadata": {},
   "source": [
    "# Requirements"
   ]
  },
  {
   "cell_type": "markdown",
   "id": "automated-penny",
   "metadata": {},
   "source": [
    "Dies sind die Packages, die wir für den Workshop brauchen. Führe einfach den Code in den folgenden Zeilen aus, um die Packages zu importieren. Erscheint eine Fehlermeldung, musst du das Package noch installieren (siehe Video-Tutorial auf der Workshop-Website)."
   ]
  },
  {
   "cell_type": "code",
   "execution_count": 1,
   "id": "apparent-necklace",
   "metadata": {},
   "outputs": [],
   "source": [
    "import pandas"
   ]
  },
  {
   "cell_type": "code",
   "execution_count": 2,
   "id": "perfect-cuisine",
   "metadata": {},
   "outputs": [],
   "source": [
    "import sklearn"
   ]
  },
  {
   "cell_type": "markdown",
   "id": "outer-rates",
   "metadata": {},
   "source": [
    "Die Packages `matplotlib`, `seaborn` und `joblib` braucht ihr nur für das Notebook `Extra_Notebook_Advanced.ipynb`, um die Confusion Matrix (Kreuztabelle) mit euren Ergebnisse zu visualisieren. Ihr müsst die Packages noch installieren (siehe Anleitung auf der Workshop-Website), bevor ihr sie importieren könnt. Das Package `joblib` braucht ihr, um euren Classifier abzuspeichern. Es müsste bereits als Basic Modul unter Anaconda installiert sein."
   ]
  },
  {
   "cell_type": "code",
   "execution_count": 3,
   "id": "mathematical-wrist",
   "metadata": {},
   "outputs": [],
   "source": [
    "import matplotlib"
   ]
  },
  {
   "cell_type": "code",
   "execution_count": 4,
   "id": "backed-sucking",
   "metadata": {},
   "outputs": [],
   "source": [
    "import seaborn"
   ]
  },
  {
   "cell_type": "code",
   "execution_count": 5,
   "id": "adjusted-corps",
   "metadata": {},
   "outputs": [],
   "source": [
    "import joblib"
   ]
  }
 ],
 "metadata": {
  "kernelspec": {
   "display_name": "Python 3",
   "language": "python",
   "name": "python3"
  },
  "language_info": {
   "codemirror_mode": {
    "name": "ipython",
    "version": 3
   },
   "file_extension": ".py",
   "mimetype": "text/x-python",
   "name": "python",
   "nbconvert_exporter": "python",
   "pygments_lexer": "ipython3",
   "version": "3.8.5"
  }
 },
 "nbformat": 4,
 "nbformat_minor": 5
}
