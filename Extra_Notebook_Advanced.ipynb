{
 "cells": [
  {
   "cell_type": "markdown",
   "metadata": {},
   "source": [
    "# Methoden-Workshop Machine Learning & AIA\n",
    "1. **Inhaltsanalyse-Daten einlesen uns ansehen** mit der Python-Bibliothek für Data Management ``pandas``.\n",
    "2. **Text in Features umwandeln** - mit ``sklearn``'s ``Vectorizer``.\n",
    "3. **Classification Functions** auswählen.\n",
    "4. Datensatz in **Train und Test Set** aufteilen.\n",
    "5. Die Funktion auf den Trainingsdaten **fitten** aka. **trainieren**.\n",
    "6. **Evaluieren** - Die Predictions mit der (manuellen) Codierung auf dem **Test Set abgleichen**.\n",
    "\n",
    "Dies ist die Extended Version des `ML-Workshop_Notebook_basic.ipynb` für die von euch, die noch ein bisschen mehr probieren wollen! Hinzugekommen sind:\n",
    "\n",
    "7. **Tf-Idf**-Gewichtung für die Worthäufigkeiten anstelle von absoluten Häufigkeiten.\n",
    "\n",
    "8. Ein paar **Pre-Processing-Optionen** mit dem `CountVectorizer`/`TfidfVectorizer`.\n",
    "\n",
    "9. Auswertung mit Camera Ready **Confusion Matrix** für euer Paper.\n",
    "\n",
    "011. Trainierten **Classifier speichern** (für dich und andere) und auf komplett neuen Daten **anwenden**.\n",
    "\n",
    "Auchtung! Für dieses Notebook müsst ihr die Packages `matplotlib` und `seaborn` installieren. \n",
    "\n",
    "Von: [anke.stoll@hhu.de](mailto:anke.stoll@hhu.de) <br>\n",
    "Last edit: 25.02.2021"
   ]
  },
  {
   "cell_type": "markdown",
   "metadata": {},
   "source": [
    "## 1. Von Excel nach Python und wieder zurück mit ``pandas``"
   ]
  },
  {
   "cell_type": "code",
   "execution_count": 1,
   "metadata": {},
   "outputs": [],
   "source": [
    "import pandas as pd #Abkürzung für Faule und aus Konvention."
   ]
  },
  {
   "cell_type": "markdown",
   "metadata": {},
   "source": [
    "#### Daten einlesen - .csv or .txt oder Excel"
   ]
  },
  {
   "cell_type": "markdown",
   "metadata": {},
   "source": [
    "Wo liegt/wie heißt der Datensatz?"
   ]
  },
  {
   "cell_type": "code",
   "execution_count": 2,
   "metadata": {},
   "outputs": [],
   "source": [
    "df = pd.read_csv(\"Data Sets/HateSpeech_Tweets_DataSet.csv\",\n",
    "                 sep=\",\") #Ändern bei Excel auf \";\")"
   ]
  },
  {
   "cell_type": "markdown",
   "metadata": {},
   "source": [
    "#### Check out your data frame"
   ]
  },
  {
   "cell_type": "code",
   "execution_count": 3,
   "metadata": {},
   "outputs": [
    {
     "data": {
      "text/html": [
       "<div>\n",
       "<style scoped>\n",
       "    .dataframe tbody tr th:only-of-type {\n",
       "        vertical-align: middle;\n",
       "    }\n",
       "\n",
       "    .dataframe tbody tr th {\n",
       "        vertical-align: top;\n",
       "    }\n",
       "\n",
       "    .dataframe thead th {\n",
       "        text-align: right;\n",
       "    }\n",
       "</style>\n",
       "<table border=\"1\" class=\"dataframe\">\n",
       "  <thead>\n",
       "    <tr style=\"text-align: right;\">\n",
       "      <th></th>\n",
       "      <th>Tweet</th>\n",
       "      <th>HateSpeech</th>\n",
       "    </tr>\n",
       "  </thead>\n",
       "  <tbody>\n",
       "    <tr>\n",
       "      <th>0</th>\n",
       "      <td>#Rosenmontag ist abgesagt. #Rapefugees also wi...</td>\n",
       "      <td>YES</td>\n",
       "    </tr>\n",
       "    <tr>\n",
       "      <th>1</th>\n",
       "      <td>bitte nicht die #Türkei zum #EU-Mitglied mache...</td>\n",
       "      <td>NO</td>\n",
       "    </tr>\n",
       "    <tr>\n",
       "      <th>2</th>\n",
       "      <td>Wieso bekommen #rapefugees mehr als unsere Har...</td>\n",
       "      <td>NO</td>\n",
       "    </tr>\n",
       "    <tr>\n",
       "      <th>3</th>\n",
       "      <td>Den verfluchten #Rapefugees den Krieg erklären...</td>\n",
       "      <td>YES</td>\n",
       "    </tr>\n",
       "    <tr>\n",
       "      <th>4</th>\n",
       "      <td>War das Wochenende im Ruhrpott unterwegs. Über...</td>\n",
       "      <td>YES</td>\n",
       "    </tr>\n",
       "  </tbody>\n",
       "</table>\n",
       "</div>"
      ],
      "text/plain": [
       "                                               Tweet HateSpeech\n",
       "0  #Rosenmontag ist abgesagt. #Rapefugees also wi...        YES\n",
       "1  bitte nicht die #Türkei zum #EU-Mitglied mache...         NO\n",
       "2  Wieso bekommen #rapefugees mehr als unsere Har...         NO\n",
       "3  Den verfluchten #Rapefugees den Krieg erklären...        YES\n",
       "4  War das Wochenende im Ruhrpott unterwegs. Über...        YES"
      ]
     },
     "execution_count": 3,
     "metadata": {},
     "output_type": "execute_result"
    }
   ],
   "source": [
    "df.head() #Zeigt die ersten 10 Zeilen."
   ]
  },
  {
   "cell_type": "code",
   "execution_count": 4,
   "metadata": {},
   "outputs": [
    {
     "data": {
      "text/html": [
       "<div>\n",
       "<style scoped>\n",
       "    .dataframe tbody tr th:only-of-type {\n",
       "        vertical-align: middle;\n",
       "    }\n",
       "\n",
       "    .dataframe tbody tr th {\n",
       "        vertical-align: top;\n",
       "    }\n",
       "\n",
       "    .dataframe thead th {\n",
       "        text-align: right;\n",
       "    }\n",
       "</style>\n",
       "<table border=\"1\" class=\"dataframe\">\n",
       "  <thead>\n",
       "    <tr style=\"text-align: right;\">\n",
       "      <th></th>\n",
       "      <th>Tweet</th>\n",
       "      <th>HateSpeech</th>\n",
       "    </tr>\n",
       "  </thead>\n",
       "  <tbody>\n",
       "    <tr>\n",
       "      <th>459</th>\n",
       "      <td>Also ich finde, Europa ist sich einig wie noch...</td>\n",
       "      <td>NO</td>\n",
       "    </tr>\n",
       "    <tr>\n",
       "      <th>460</th>\n",
       "      <td>#dieanstalt #flüchtlinge und #Asylanten benöti...</td>\n",
       "      <td>YES</td>\n",
       "    </tr>\n",
       "    <tr>\n",
       "      <th>461</th>\n",
       "      <td>Die Regierung hat nichts im Griff. Das gibt ho...</td>\n",
       "      <td>NO</td>\n",
       "    </tr>\n",
       "    <tr>\n",
       "      <th>462</th>\n",
       "      <td>Das gerechte in #Deutschland ist ja, dass nich...</td>\n",
       "      <td>NO</td>\n",
       "    </tr>\n",
       "    <tr>\n",
       "      <th>463</th>\n",
       "      <td>#radikaler #Imam in #Dänemark ruft z #Steinigu...</td>\n",
       "      <td>NO</td>\n",
       "    </tr>\n",
       "    <tr>\n",
       "      <th>464</th>\n",
       "      <td>Wo ist das Problem? Für Moslems ist es doch sc...</td>\n",
       "      <td>YES</td>\n",
       "    </tr>\n",
       "    <tr>\n",
       "      <th>465</th>\n",
       "      <td>Simone #Peter hat seit 7 Monaten und weit über...</td>\n",
       "      <td>NO</td>\n",
       "    </tr>\n",
       "    <tr>\n",
       "      <th>466</th>\n",
       "      <td>Bin gespannt auf #onebillionrising. Hoffentlic...</td>\n",
       "      <td>YES</td>\n",
       "    </tr>\n",
       "    <tr>\n",
       "      <th>467</th>\n",
       "      <td>#kipping ist so dumm! wenn #asylanten Wohnunge...</td>\n",
       "      <td>NO</td>\n",
       "    </tr>\n",
       "    <tr>\n",
       "      <th>468</th>\n",
       "      <td>Zukünft. #CDU Wähler aus #MEA marodieren auf M...</td>\n",
       "      <td>YES</td>\n",
       "    </tr>\n",
       "  </tbody>\n",
       "</table>\n",
       "</div>"
      ],
      "text/plain": [
       "                                                 Tweet HateSpeech\n",
       "459  Also ich finde, Europa ist sich einig wie noch...         NO\n",
       "460  #dieanstalt #flüchtlinge und #Asylanten benöti...        YES\n",
       "461  Die Regierung hat nichts im Griff. Das gibt ho...         NO\n",
       "462  Das gerechte in #Deutschland ist ja, dass nich...         NO\n",
       "463  #radikaler #Imam in #Dänemark ruft z #Steinigu...         NO\n",
       "464  Wo ist das Problem? Für Moslems ist es doch sc...        YES\n",
       "465  Simone #Peter hat seit 7 Monaten und weit über...         NO\n",
       "466  Bin gespannt auf #onebillionrising. Hoffentlic...        YES\n",
       "467  #kipping ist so dumm! wenn #asylanten Wohnunge...         NO\n",
       "468  Zukünft. #CDU Wähler aus #MEA marodieren auf M...        YES"
      ]
     },
     "execution_count": 4,
     "metadata": {},
     "output_type": "execute_result"
    }
   ],
   "source": [
    "df.tail(10) #Oder die letzen 10."
   ]
  },
  {
   "cell_type": "code",
   "execution_count": 5,
   "metadata": {},
   "outputs": [
    {
     "data": {
      "text/plain": [
       "469"
      ]
     },
     "execution_count": 5,
     "metadata": {},
     "output_type": "execute_result"
    }
   ],
   "source": [
    "len(df) #Anzahl der Zeilen."
   ]
  },
  {
   "cell_type": "code",
   "execution_count": 6,
   "metadata": {},
   "outputs": [
    {
     "data": {
      "text/plain": [
       "NO     315\n",
       "YES    154\n",
       "Name: HateSpeech, dtype: int64"
      ]
     },
     "execution_count": 6,
     "metadata": {},
     "output_type": "execute_result"
    }
   ],
   "source": [
    "df[\"HateSpeech\"].value_counts() #Überblick zu den Werten in einer Spalte."
   ]
  },
  {
   "cell_type": "markdown",
   "metadata": {},
   "source": [
    "## 2. Text zu Features - Unabhängigen Variablen programmieren"
   ]
  },
  {
   "cell_type": "markdown",
   "metadata": {},
   "source": [
    "Die zweite super awesome Python Bibliothek heißt ``sklearn``. In dieser Bibliothek finden wir alles, was wir für ML brauchen. Auch das ML mit Text wird uns besonders einfach gemacht. In ``sklearn`` gibt es eine Unterabteilung ``feature_extraction.text``. Hier finden wir Funktionen, die uns das Umwandeln von Text zu Features (Unigramme oder N-Gramme) sehr einfach machen! \n",
    "\n",
    "Wir benutzen jetzt mal den ``TfidfVectorizer``. Dies ist eine etablierte und die beliebteste Gewichtung im ML mit Texte. Full documentation auf der [sklearn Website](https://scikit-learn.org/stable/modules/generated/sklearn.feature_extraction.text.TfidfVectorizer.html). Oder lest [hier](https://nlp.stanford.edu/IR-book/html/htmledition/tf-idf-weighting-1.html) nach."
   ]
  },
  {
   "cell_type": "code",
   "execution_count": 7,
   "metadata": {},
   "outputs": [],
   "source": [
    "from sklearn.feature_extraction.text import TfidfVectorizer, CountVectorizer"
   ]
  },
  {
   "cell_type": "markdown",
   "metadata": {},
   "source": [
    "All vectorizers have several parameters that you can modify. Der Tfidf Vectorizer kann genau so genutzt werden wie der `CountVectorizer`. Hier noch ein paar mehr Parameter, an denen man rumspielen kann!"
   ]
  },
  {
   "cell_type": "code",
   "execution_count": 8,
   "metadata": {},
   "outputs": [],
   "source": [
    "vec = CountVectorizer(ngram_range=(1,1), #Hier: Nur Unigramme als Features.\n",
    "                      \n",
    "                      #Hiermit könnt ihr sehr seltene und sehr häufige Wörter im Datensatz entfernen.\n",
    "                      max_df=0.95,# In how many documents can a term occur max. E.g. in 95%.\n",
    "                      min_df=0.01,#How often must a term occur in the sample min. E.g. in 1% of the documents.\n",
    "                      \n",
    "                      #Hiermit könnt ihr eine Liste von Wörtern übergeben, die nicht berücksichtigt werden sollen.\n",
    "                      #Die Voreinstellung ist stop_words=None. Man kann auch einstellen stop_words=\"english\". \n",
    "                      #Oder man kann eine eigene Liste erstellen\n",
    "                      stop_words=[\"das\", \"und\", \"am\"]\n",
    "                      )"
   ]
  },
  {
   "cell_type": "code",
   "execution_count": 9,
   "metadata": {},
   "outputs": [],
   "source": [
    "Tweets_vec = vec.fit_transform(df[\"Tweet\"]) \n",
    "#Wir wenden den Vectorizer auf der Spalte \"Tweet\" in unserem Datensatz an."
   ]
  },
  {
   "cell_type": "code",
   "execution_count": 10,
   "metadata": {},
   "outputs": [
    {
     "data": {
      "text/plain": [
       "<469x231 sparse matrix of type '<class 'numpy.int64'>'\n",
       "\twith 4116 stored elements in Compressed Sparse Row format>"
      ]
     },
     "execution_count": 10,
     "metadata": {},
     "output_type": "execute_result"
    }
   ],
   "source": [
    "Tweets_vec # 469 tweets und 231 features (Oha, da sind ziemlich viele durch das Preprocessing verschwunden)."
   ]
  },
  {
   "cell_type": "markdown",
   "metadata": {},
   "source": [
    "#### Was sind unsere Features (UVs)?"
   ]
  },
  {
   "cell_type": "code",
   "execution_count": 11,
   "metadata": {},
   "outputs": [
    {
     "data": {
      "text/plain": [
       "['000',\n",
       " '2016',\n",
       " '500',\n",
       " 'ab',\n",
       " 'aber',\n",
       " 'abmerkeln',\n",
       " 'afd',\n",
       " 'alle',\n",
       " 'als',\n",
       " 'also',\n",
       " 'an',\n",
       " 'andere',\n",
       " 'angst',\n",
       " 'annewill',\n",
       " 'arbeit',\n",
       " 'ard',\n",
       " 'asyl',\n",
       " 'asylanten',\n",
       " 'auch',\n",
       " 'auf',\n",
       " 'aus',\n",
       " 'bald',\n",
       " 'bei',\n",
       " 'bekommen',\n",
       " 'besser',\n",
       " 'bevölkerung',\n",
       " 'bin',\n",
       " 'bis',\n",
       " 'cdu',\n",
       " 'christen',\n",
       " 'clausnitz',\n",
       " 'da',\n",
       " 'damit',\n",
       " 'dank',\n",
       " 'dann',\n",
       " 'dass',\n",
       " 'daß',\n",
       " 'dem',\n",
       " 'den',\n",
       " 'denen',\n",
       " 'der',\n",
       " 'des',\n",
       " 'deutsche',\n",
       " 'deutschen',\n",
       " 'deutschland',\n",
       " 'deutschlands',\n",
       " 'die',\n",
       " 'diebstahl',\n",
       " 'diese',\n",
       " 'doch',\n",
       " 'durch',\n",
       " 'dürfen',\n",
       " 'eigentlich',\n",
       " 'ein',\n",
       " 'eine',\n",
       " 'einem',\n",
       " 'einen',\n",
       " 'einer',\n",
       " 'einfach',\n",
       " 'endlich',\n",
       " 'er',\n",
       " 'erst',\n",
       " 'es',\n",
       " 'eu',\n",
       " 'euro',\n",
       " 'europa',\n",
       " 'europas',\n",
       " 'falsch',\n",
       " 'findet',\n",
       " 'fluechtlinge',\n",
       " 'flüchtlinge',\n",
       " 'frau',\n",
       " 'frauen',\n",
       " 'für',\n",
       " 'gegen',\n",
       " 'geht',\n",
       " 'geld',\n",
       " 'gerade',\n",
       " 'gesagt',\n",
       " 'geschichte',\n",
       " 'gg',\n",
       " 'gibt',\n",
       " 'grenze',\n",
       " 'grenzen',\n",
       " 'griechenland',\n",
       " 'grüne',\n",
       " 'gut',\n",
       " 'gutmenschen',\n",
       " 'haben',\n",
       " 'handgranate',\n",
       " 'hartaberfair',\n",
       " 'hat',\n",
       " 'heute',\n",
       " 'hier',\n",
       " 'hungerstreik',\n",
       " 'ich',\n",
       " 'ihr',\n",
       " 'ihre',\n",
       " 'illner',\n",
       " 'im',\n",
       " 'immer',\n",
       " 'in',\n",
       " 'ins',\n",
       " 'is',\n",
       " 'islam',\n",
       " 'islamisierung',\n",
       " 'ist',\n",
       " 'ja',\n",
       " 'jahr',\n",
       " 'jetzt',\n",
       " 'kamen',\n",
       " 'kann',\n",
       " 'karneval',\n",
       " 'kein',\n",
       " 'keine',\n",
       " 'kiel',\n",
       " 'kinder',\n",
       " 'koelnhbf',\n",
       " 'kommen',\n",
       " 'kommt',\n",
       " 'krimigranten',\n",
       " 'kriminalität',\n",
       " 'kriminelle',\n",
       " 'köln',\n",
       " 'land',\n",
       " 'lanz',\n",
       " 'lassen',\n",
       " 'leben',\n",
       " 'legal',\n",
       " 'lieber',\n",
       " 'läuft',\n",
       " 'machen',\n",
       " 'macht',\n",
       " 'maischberger',\n",
       " 'mal',\n",
       " 'man',\n",
       " 'mehr',\n",
       " 'menschen',\n",
       " 'menschenwürde',\n",
       " 'merkel',\n",
       " 'merkelmussweg',\n",
       " 'migranten',\n",
       " 'millionen',\n",
       " 'mio',\n",
       " 'mir',\n",
       " 'mit',\n",
       " 'muss',\n",
       " 'männer',\n",
       " 'müssen',\n",
       " 'nach',\n",
       " 'nehmen',\n",
       " 'nein',\n",
       " 'neue',\n",
       " 'nicht',\n",
       " 'nichts',\n",
       " 'nie',\n",
       " 'noch',\n",
       " 'nur',\n",
       " 'ob',\n",
       " 'oder',\n",
       " 'pegida',\n",
       " 'polizei',\n",
       " 'problem',\n",
       " 'rape',\n",
       " 'rapefugees',\n",
       " 'recht',\n",
       " 'refugees',\n",
       " 'refugeesnotwelcome',\n",
       " 'refugeeswelcome',\n",
       " 'regierung',\n",
       " 'rosenmontag',\n",
       " 'scharia',\n",
       " 'schnell',\n",
       " 'schon',\n",
       " 'schwimmbad',\n",
       " 'sein',\n",
       " 'sich',\n",
       " 'sicher',\n",
       " 'sie',\n",
       " 'sind',\n",
       " 'so',\n",
       " 'soll',\n",
       " 'sollen',\n",
       " 'sondern',\n",
       " 'sonst',\n",
       " 'sophienhof',\n",
       " 'spd',\n",
       " 'syrien',\n",
       " 'tun',\n",
       " 'türkei',\n",
       " 'um',\n",
       " 'uns',\n",
       " 'unsere',\n",
       " 'vergewaltigungen',\n",
       " 'verstoß',\n",
       " 'viel',\n",
       " 'von',\n",
       " 'vor',\n",
       " 'wahlen',\n",
       " 'war',\n",
       " 'warum',\n",
       " 'was',\n",
       " 'weg',\n",
       " 'wegen',\n",
       " 'weil',\n",
       " 'welt',\n",
       " 'wenn',\n",
       " 'wer',\n",
       " 'werden',\n",
       " 'widerstand',\n",
       " 'wie',\n",
       " 'wieder',\n",
       " 'will',\n",
       " 'wir',\n",
       " 'wird',\n",
       " 'wirtschaft',\n",
       " 'wo',\n",
       " 'wohl',\n",
       " 'wollen',\n",
       " 'wurde',\n",
       " 'wählen',\n",
       " 'wählt',\n",
       " 'wäre',\n",
       " 'würde',\n",
       " 'würden',\n",
       " 'zeit',\n",
       " 'zu',\n",
       " 'zum',\n",
       " 'zur',\n",
       " 'über',\n",
       " 'überall']"
      ]
     },
     "execution_count": 11,
     "metadata": {},
     "output_type": "execute_result"
    }
   ],
   "source": [
    "vec.get_feature_names() #Das sind unsere Features"
   ]
  },
  {
   "cell_type": "markdown",
   "metadata": {},
   "source": [
    "Ich habe hier ein Stück Code eingefügt, dass ihr nutzen könnt, um euch die Häufigkeiten der einzelnen Features in eurem Datensatz anzusehen.\n",
    "\n",
    "I used [this code from stuckoverflow](https://stackoverflow.com/questions/45805493/sorting-tfidfvectorizer-output-by-tf-idf-lowest-to-highest-and-vice-versa). Alternatively, you can try [this code](https://towardsdatascience.com/very-simple-python-script-for-extracting-most-common-words-from-a-story-1e3570d0b9d0) to get an overview of the most frequent words in your documents (before vectorization)."
   ]
  },
  {
   "cell_type": "code",
   "execution_count": 12,
   "metadata": {},
   "outputs": [],
   "source": [
    "features = vec.get_feature_names()\n",
    "sums = Tweets_vec.sum(axis=0) \n",
    "\n",
    "data = []\n",
    "\n",
    "for col, term in enumerate(features):\n",
    "    data.append( (term, sums[0,col] ))\n",
    "\n",
    "df_ranks = pd.DataFrame(data, columns=['Feature','Count'])\n",
    "df_ranks.sort_values('Count', ascending=False, inplace=True) \n",
    "#Setzt den Parameter ascending auf True und ihr erhaltet die Sortierung nach Count aufsteigend. "
   ]
  },
  {
   "cell_type": "code",
   "execution_count": 13,
   "metadata": {},
   "outputs": [
    {
     "data": {
      "text/html": [
       "<div>\n",
       "<style scoped>\n",
       "    .dataframe tbody tr th:only-of-type {\n",
       "        vertical-align: middle;\n",
       "    }\n",
       "\n",
       "    .dataframe tbody tr th {\n",
       "        vertical-align: top;\n",
       "    }\n",
       "\n",
       "    .dataframe thead th {\n",
       "        text-align: right;\n",
       "    }\n",
       "</style>\n",
       "<table border=\"1\" class=\"dataframe\">\n",
       "  <thead>\n",
       "    <tr style=\"text-align: right;\">\n",
       "      <th></th>\n",
       "      <th>Feature</th>\n",
       "      <th>Count</th>\n",
       "    </tr>\n",
       "  </thead>\n",
       "  <tbody>\n",
       "    <tr>\n",
       "      <th>46</th>\n",
       "      <td>die</td>\n",
       "      <td>218</td>\n",
       "    </tr>\n",
       "    <tr>\n",
       "      <th>17</th>\n",
       "      <td>asylanten</td>\n",
       "      <td>203</td>\n",
       "    </tr>\n",
       "    <tr>\n",
       "      <th>101</th>\n",
       "      <td>in</td>\n",
       "      <td>139</td>\n",
       "    </tr>\n",
       "    <tr>\n",
       "      <th>164</th>\n",
       "      <td>rapefugees</td>\n",
       "      <td>120</td>\n",
       "    </tr>\n",
       "    <tr>\n",
       "      <th>40</th>\n",
       "      <td>der</td>\n",
       "      <td>113</td>\n",
       "    </tr>\n",
       "  </tbody>\n",
       "</table>\n",
       "</div>"
      ],
      "text/plain": [
       "        Feature  Count\n",
       "46          die    218\n",
       "17    asylanten    203\n",
       "101          in    139\n",
       "164  rapefugees    120\n",
       "40          der    113"
      ]
     },
     "execution_count": 13,
     "metadata": {},
     "output_type": "execute_result"
    }
   ],
   "source": [
    "df_ranks.head() #Der Count ist diesmal relativ, nicht absolut."
   ]
  },
  {
   "cell_type": "markdown",
   "metadata": {},
   "source": [
    "## 3. Den Classifier programmieren"
   ]
  },
  {
   "cell_type": "markdown",
   "metadata": {},
   "source": [
    "Wir wissen nun, wie man Features im Bag-of-Words-Style (Wörter mit ihren Häufigkeiten) erstellt. Als Kategorie (AV, Label, Class) haben wir in unserem Datensatz Hate Speech (YES/NO). Jetzt berechnen wir einen Zusammenhang, heißt, wir versuchen, die Kategorie _Hate Speech_ durch unsere Feautures zu schätzen (klassifizieren)."
   ]
  },
  {
   "cell_type": "markdown",
   "metadata": {},
   "source": [
    "Als erstes müssen wir uns für eine Schätzfunktion - eine _Classification Function_ - entscheiden. Und zwar aus der Auswahl, die in der `sklearn` zu finden ist. Hier eine kleine Auswahl von Funktionen, die sich in der Forschung als geeignet herausgestellt haben. Jedoch muss man letztendlich durch Trail und Error herausfinden, welche sich am besteb eignet."
   ]
  },
  {
   "cell_type": "code",
   "execution_count": 14,
   "metadata": {},
   "outputs": [],
   "source": [
    "from sklearn.linear_model import LogisticRegression\n",
    "from sklearn.neighbors import KNeighborsClassifier\n",
    "from sklearn.naive_bayes import MultinomialNB\n",
    "from sklearn.svm import SVC"
   ]
  },
  {
   "cell_type": "code",
   "execution_count": 15,
   "metadata": {},
   "outputs": [],
   "source": [
    "model = LogisticRegression() \n",
    "#Ich entscheide mich für die LogReg mit Default Parameter-Einstellungen (daher ist die Klammer () leer)."
   ]
  },
  {
   "cell_type": "markdown",
   "metadata": {},
   "source": [
    "#### Den Datensatz in Train und Test Set aufteilen\n",
    "\n",
    "Als ersten teilen wir den Datensatz in Trainingsdaten und Testdaten auf."
   ]
  },
  {
   "cell_type": "code",
   "execution_count": 16,
   "metadata": {},
   "outputs": [],
   "source": [
    "from sklearn.model_selection import train_test_split"
   ]
  },
  {
   "cell_type": "code",
   "execution_count": 17,
   "metadata": {},
   "outputs": [],
   "source": [
    "X = df[\"Tweet\"]"
   ]
  },
  {
   "cell_type": "code",
   "execution_count": 18,
   "metadata": {},
   "outputs": [],
   "source": [
    "y =df[\"HateSpeech\"]"
   ]
  },
  {
   "cell_type": "code",
   "execution_count": 19,
   "metadata": {},
   "outputs": [],
   "source": [
    "X_train, X_test, y_train, y_test = train_test_split(X, #X is your pandas column with the documents.\n",
    "                                                    y, #y is your pandas coulmn with category.\n",
    "                                                    test_size=0.33,#Relative size of the test set. e.g. 33% \n",
    "                                                    random_state=42) #Chose a number to reproduce the split."
   ]
  },
  {
   "cell_type": "markdown",
   "metadata": {},
   "source": [
    "Jetzt wird der Text in X in features umgewandlet (vektorisiert), wie wir es weiter oben gelernt haben. Achte darauf, zunächst nur die Texte im Train Set zu vektorisieren! Ich entscheide mich noch mal um, und zwar für absolute nicht gewichtete Häufigkeiten (`CountVectorizer`) und die folgenden Parametereinstellungen:"
   ]
  },
  {
   "cell_type": "code",
   "execution_count": 20,
   "metadata": {},
   "outputs": [],
   "source": [
    "vec = CountVectorizer(ngram_range=(1,1), \n",
    "                      max_df=0.95,# In how many documents can a term occur max. E.g. in 95%.\n",
    "                      min_df=0.01,#How often must a term occur in the sample min. E.g. in 1% of the documents.\n",
    "                      \n",
    "                      stop_words=[\"das\", \"und\", \"am\", \"die\", \"der\"]\n",
    "                      )"
   ]
  },
  {
   "cell_type": "code",
   "execution_count": 21,
   "metadata": {},
   "outputs": [],
   "source": [
    "X_train_vec = vec.fit_transform(X_train) #Do this ONLY ON X TRAIN !"
   ]
  },
  {
   "cell_type": "code",
   "execution_count": 22,
   "metadata": {},
   "outputs": [
    {
     "data": {
      "text/plain": [
       "<314x198 sparse matrix of type '<class 'numpy.int64'>'\n",
       "\twith 2494 stored elements in Compressed Sparse Row format>"
      ]
     },
     "execution_count": 22,
     "metadata": {},
     "output_type": "execute_result"
    }
   ],
   "source": [
    "X_train_vec #314 Kommentare und 1987 Features (Unigramme hier)"
   ]
  },
  {
   "cell_type": "markdown",
   "metadata": {},
   "source": [
    "Jetzt wird der Classifier trainiert! Das ist genau eine Zeile Code! Und geht mit unserem kleinen Train Set und Naive Bayes in Sekundenschnelle!"
   ]
  },
  {
   "cell_type": "code",
   "execution_count": 23,
   "metadata": {},
   "outputs": [
    {
     "name": "stdout",
     "output_type": "stream",
     "text": [
      "Wall time: 0 ns\n"
     ]
    },
    {
     "data": {
      "text/plain": [
       "LogisticRegression()"
      ]
     },
     "execution_count": 23,
     "metadata": {},
     "output_type": "execute_result"
    }
   ],
   "source": [
    "%time model.fit(X_train_vec, y_train) #Fit the model, what means training. (13.9 ms dauert das Trainieren.)"
   ]
  },
  {
   "cell_type": "markdown",
   "metadata": {},
   "source": [
    "Jetzt lassen wir unser trainiertes (gefittetes) Modell Predictions auf dem Test Set machen, damit wir die klassifizierten Werte mit den tatsächlichen Labels vergleichen können.\n",
    "\n",
    "Vorher müssen die Texte im Test Set ebenfalls in Features transformiert werden. Nutze dafür nur die Funktion transform (nicht fit_transform) deines Vectorizers."
   ]
  },
  {
   "cell_type": "code",
   "execution_count": 24,
   "metadata": {},
   "outputs": [],
   "source": [
    "X_test_vec = vec.transform(X_test)# Mache Predictions auf dem Test Set für die Evaluation. \n",
    "#Benutze die funtion transform, nicht fit_transform!"
   ]
  },
  {
   "cell_type": "code",
   "execution_count": 25,
   "metadata": {},
   "outputs": [],
   "source": [
    "y_pred = model.predict(X_test_vec) #predict ist die Funktion, mit der die Predictions gemacht werden.\n",
    "#Diese werden im Objekt y_pred abgespeichert."
   ]
  },
  {
   "cell_type": "code",
   "execution_count": 26,
   "metadata": {},
   "outputs": [
    {
     "data": {
      "text/plain": [
       "array(['NO', 'YES', 'NO', 'YES', 'YES', 'NO', 'YES', 'YES', 'NO', 'NO',\n",
       "       'NO', 'NO', 'NO', 'NO', 'NO', 'NO', 'NO', 'NO', 'NO', 'NO', 'NO',\n",
       "       'NO', 'YES', 'YES', 'YES', 'NO', 'NO', 'YES', 'NO', 'NO', 'NO',\n",
       "       'NO', 'NO', 'NO', 'NO', 'NO', 'YES', 'YES', 'NO', 'YES', 'NO',\n",
       "       'NO', 'YES', 'NO', 'YES', 'NO', 'NO', 'YES', 'NO', 'NO', 'NO',\n",
       "       'NO', 'NO', 'YES', 'YES', 'YES', 'NO', 'NO', 'YES', 'NO', 'NO',\n",
       "       'YES', 'NO', 'NO', 'NO', 'YES', 'NO', 'NO', 'NO', 'YES', 'NO',\n",
       "       'NO', 'NO', 'NO', 'NO', 'NO', 'NO', 'NO', 'NO', 'NO', 'NO', 'NO',\n",
       "       'NO', 'NO', 'NO', 'NO', 'YES', 'NO', 'NO', 'NO', 'NO', 'NO', 'YES',\n",
       "       'NO', 'YES', 'YES', 'NO', 'NO', 'NO', 'NO', 'NO', 'YES', 'YES',\n",
       "       'NO', 'NO', 'YES', 'YES', 'NO', 'NO', 'NO', 'YES', 'NO', 'NO',\n",
       "       'NO', 'NO', 'NO', 'NO', 'NO', 'NO', 'NO', 'NO', 'YES', 'YES', 'NO',\n",
       "       'NO', 'NO', 'YES', 'YES', 'NO', 'NO', 'YES', 'YES', 'NO', 'NO',\n",
       "       'YES', 'NO', 'NO', 'NO', 'YES', 'NO', 'NO', 'NO', 'NO', 'NO', 'NO',\n",
       "       'NO', 'NO', 'NO', 'NO', 'NO', 'NO', 'NO', 'YES', 'NO', 'YES'],\n",
       "      dtype=object)"
      ]
     },
     "execution_count": 26,
     "metadata": {},
     "output_type": "execute_result"
    }
   ],
   "source": [
    "y_pred #Werfen wir schon mal einen Blick auf die klassifizierten Werte...Scheint jedenfalls geklappt zu haben."
   ]
  },
  {
   "cell_type": "markdown",
   "metadata": {},
   "source": [
    "## Evaluation!\n",
    "\n",
    "Nun vergleichen wir die Ergebnisse des Classifiers mit den Labels auf dem Test Set. Hierfür importieren wir die ein paar Maße und Funktionen aus `sklear.metrics`, die wir für die Evaluation nutzen."
   ]
  },
  {
   "cell_type": "code",
   "execution_count": 27,
   "metadata": {},
   "outputs": [],
   "source": [
    "from sklearn.metrics import classification_report\n",
    "from sklearn.metrics import confusion_matrix"
   ]
  },
  {
   "cell_type": "code",
   "execution_count": 28,
   "metadata": {},
   "outputs": [
    {
     "name": "stdout",
     "output_type": "stream",
     "text": [
      "              precision    recall  f1-score   support\n",
      "\n",
      "          NO       0.72      0.83      0.77        99\n",
      "         YES       0.59      0.43      0.49        56\n",
      "\n",
      "    accuracy                           0.68       155\n",
      "   macro avg       0.65      0.63      0.63       155\n",
      "weighted avg       0.67      0.68      0.67       155\n",
      "\n"
     ]
    }
   ],
   "source": [
    "#This is a nice overview of the performance of your model in all categories (on the test set).\n",
    "print(classification_report(y_test, y_pred))"
   ]
  },
  {
   "cell_type": "markdown",
   "metadata": {},
   "source": [
    "Dieser Code erstellt euch eine sehr schicke Confusion Matrix, die ihr als Pdf abspeichern könnt. Ihr müsst die Bibliotheken `seaborn` und `matplotlib` dafür installieren."
   ]
  },
  {
   "cell_type": "code",
   "execution_count": 48,
   "metadata": {},
   "outputs": [
    {
     "data": {
      "image/png": "[encoded data removed]",
      "text/plain": [
       "<Figure size 504x360 with 2 Axes>"
      ]
     },
     "metadata": {},
     "output_type": "display_data"
    }
   ],
   "source": [
    "import seaborn as sn\n",
    "import matplotlib.pyplot as plt\n",
    "\n",
    "array = confusion_matrix(y_test, y_pred)\n",
    "df_cm = pd.DataFrame(array,index=[\"True No Hate\", \"True Hate\"],\n",
    "                  columns = [\"Predicted No Hate\", \"Predicted Hate\"])\n",
    "plt.figure(figsize = (7,5)\n",
    ")\n",
    "fig = sn.heatmap(df_cm, annot=True, annot_kws={\"fontsize\":16},\n",
    "                 cmap=plt.cm.Blues, cbar=True, linewidth=0.5, linecolor=\"black\")\n",
    "sn.set(font_scale=1.8)\n",
    "figure = fig.get_figure()    \n",
    "figure.savefig('my_cm.pdf', dpi=400)"
   ]
  },
  {
   "cell_type": "markdown",
   "metadata": {},
   "source": [
    "### Qualitative Fehleranalyse"
   ]
  },
  {
   "cell_type": "markdown",
   "metadata": {},
   "source": [
    "#### Welche Kommentare wurden false positive klassifiziert?"
   ]
  },
  {
   "cell_type": "code",
   "execution_count": 30,
   "metadata": {},
   "outputs": [],
   "source": [
    "#Ein super Trick!\n",
    "false_positives = pd.DataFrame(X_test[y_test < y_pred])\n",
    "#false positives heißt, fälschlicherweise als Hate klassifiziert."
   ]
  },
  {
   "cell_type": "code",
   "execution_count": 31,
   "metadata": {},
   "outputs": [
    {
     "data": {
      "text/html": [
       "<div>\n",
       "<style scoped>\n",
       "    .dataframe tbody tr th:only-of-type {\n",
       "        vertical-align: middle;\n",
       "    }\n",
       "\n",
       "    .dataframe tbody tr th {\n",
       "        vertical-align: top;\n",
       "    }\n",
       "\n",
       "    .dataframe thead th {\n",
       "        text-align: right;\n",
       "    }\n",
       "</style>\n",
       "<table border=\"1\" class=\"dataframe\">\n",
       "  <thead>\n",
       "    <tr style=\"text-align: right;\">\n",
       "      <th></th>\n",
       "      <th>Tweet</th>\n",
       "    </tr>\n",
       "  </thead>\n",
       "  <tbody>\n",
       "    <tr>\n",
       "      <th>73</th>\n",
       "      <td>Manche sagen die #AfD Wähler sollen sich #schä...</td>\n",
       "    </tr>\n",
       "    <tr>\n",
       "      <th>445</th>\n",
       "      <td>#SternTV 24.02.16 soeben sofort weggezappt! Lü...</td>\n",
       "    </tr>\n",
       "    <tr>\n",
       "      <th>247</th>\n",
       "      <td>lieber #Horst #Seehofer,das #Geld aus #Saudiar...</td>\n",
       "    </tr>\n",
       "    <tr>\n",
       "      <th>75</th>\n",
       "      <td>#BeateUhse fördert #SCHARIA über Internet-Sexs...</td>\n",
       "    </tr>\n",
       "    <tr>\n",
       "      <th>386</th>\n",
       "      <td>Es gibt keine #rapefugees</td>\n",
       "    </tr>\n",
       "    <tr>\n",
       "      <th>463</th>\n",
       "      <td>#radikaler #Imam in #Dänemark ruft z #Steinigu...</td>\n",
       "    </tr>\n",
       "    <tr>\n",
       "      <th>140</th>\n",
       "      <td>#DeutscheBank sagt #Asylanten helfen der Wirts...</td>\n",
       "    </tr>\n",
       "    <tr>\n",
       "      <th>72</th>\n",
       "      <td>Ein Soldat, der gegen Flüchtlinge ist und u.a....</td>\n",
       "    </tr>\n",
       "    <tr>\n",
       "      <th>412</th>\n",
       "      <td>Ab jetzt heißt es nicht mehr Leben, sondern Üb...</td>\n",
       "    </tr>\n",
       "    <tr>\n",
       "      <th>302</th>\n",
       "      <td>Das Geld ging für Lunchpakete der #rapefugees ...</td>\n",
       "    </tr>\n",
       "    <tr>\n",
       "      <th>304</th>\n",
       "      <td>Glawischnig #Weltfrauentag: \"\"Ich bekämpfe kei...</td>\n",
       "    </tr>\n",
       "    <tr>\n",
       "      <th>382</th>\n",
       "      <td>Ich zahle in einem christlichen Land jeden Mon...</td>\n",
       "    </tr>\n",
       "    <tr>\n",
       "      <th>324</th>\n",
       "      <td>#Kiel : der #Asylkult und seine Folgen, bald a...</td>\n",
       "    </tr>\n",
       "    <tr>\n",
       "      <th>314</th>\n",
       "      <td>Wähler und Nichtwähler: Wir müssen uns wehren-...</td>\n",
       "    </tr>\n",
       "    <tr>\n",
       "      <th>172</th>\n",
       "      <td>Pseudo #Sturmwarnung in #NRW zum Schutz deutsc...</td>\n",
       "    </tr>\n",
       "    <tr>\n",
       "      <th>299</th>\n",
       "      <td>Der blanke politische Schwachsinn:  #Sturmwarn...</td>\n",
       "    </tr>\n",
       "    <tr>\n",
       "      <th>367</th>\n",
       "      <td>Kälte und schlechtes Wetter im Winter sind ein...</td>\n",
       "    </tr>\n",
       "  </tbody>\n",
       "</table>\n",
       "</div>"
      ],
      "text/plain": [
       "                                                 Tweet\n",
       "73   Manche sagen die #AfD Wähler sollen sich #schä...\n",
       "445  #SternTV 24.02.16 soeben sofort weggezappt! Lü...\n",
       "247  lieber #Horst #Seehofer,das #Geld aus #Saudiar...\n",
       "75   #BeateUhse fördert #SCHARIA über Internet-Sexs...\n",
       "386                          Es gibt keine #rapefugees\n",
       "463  #radikaler #Imam in #Dänemark ruft z #Steinigu...\n",
       "140  #DeutscheBank sagt #Asylanten helfen der Wirts...\n",
       "72   Ein Soldat, der gegen Flüchtlinge ist und u.a....\n",
       "412  Ab jetzt heißt es nicht mehr Leben, sondern Üb...\n",
       "302  Das Geld ging für Lunchpakete der #rapefugees ...\n",
       "304  Glawischnig #Weltfrauentag: \"\"Ich bekämpfe kei...\n",
       "382  Ich zahle in einem christlichen Land jeden Mon...\n",
       "324  #Kiel : der #Asylkult und seine Folgen, bald a...\n",
       "314  Wähler und Nichtwähler: Wir müssen uns wehren-...\n",
       "172  Pseudo #Sturmwarnung in #NRW zum Schutz deutsc...\n",
       "299  Der blanke politische Schwachsinn:  #Sturmwarn...\n",
       "367  Kälte und schlechtes Wetter im Winter sind ein..."
      ]
     },
     "execution_count": 31,
     "metadata": {},
     "output_type": "execute_result"
    }
   ],
   "source": [
    "false_positives"
   ]
  },
  {
   "cell_type": "code",
   "execution_count": 32,
   "metadata": {},
   "outputs": [],
   "source": [
    "#Ihr könnt euch die Tweets als .csv-Datei abspeichern, um sie zu später analysieren!\n",
    "false_positives.to_csv(\"False_positives.csv\", encoding=\"utf-8\", index=False)"
   ]
  },
  {
   "cell_type": "markdown",
   "metadata": {},
   "source": [
    "#### Welche Kommentare wurden false negative klassifiziert?"
   ]
  },
  {
   "cell_type": "code",
   "execution_count": 33,
   "metadata": {},
   "outputs": [
    {
     "data": {
      "text/plain": [
       "55     lieber #Horst #Seehofer,der #Bayerische #Staat...\n",
       "78     #Asylanten betteln jetzt auch in den Nachbardö...\n",
       "408    Gute #Opfer von #Krimigranten & #Rapefugees ze...\n",
       "456    Vorhin hat jemand gefragt, wie es mit der #Isl...\n",
       "418    also die #fasnacht in diesem #jahr geht in die...\n",
       "93     Die #Islamisierung des #Abendlandes ist die sc...\n",
       "0      #Rosenmontag ist abgesagt. #Rapefugees also wi...\n",
       "464    Wo ist das Problem? Für Moslems ist es doch sc...\n",
       "30     Pöbelnde #Asylanten zeigen Kopf-ab-Gesten und ...\n",
       "238    Worauf warten diese scheiss #Flüchtlinge und #...\n",
       "406    #Diebstahl,#Einbruch,#sexuelle Übergriffe v. #...\n",
       "39     #besorgteGutmenschen regen sich auf :  #Khaled...\n",
       "301    Mensch #Gabriel, weil #Europa keine #Muslime h...\n",
       "117    Gerüchten zufolge finden sich in den Netzen de...\n",
       "124    Flüchtlinge zwangsweise in Privathaushalten ei...\n",
       "415    #IS-#Sympathisant aus #Darmstadt,#Werbe-#Video...\n",
       "277    #pegida ihr habt einen Maulwurf  Handabhacken ...\n",
       "434    Die Tussi war voll naiv. Nimmt südländische Mä...\n",
       "148    #Gutmenschen,die den #Islam unterstützen,werde...\n",
       "296    #Flüchtlinge und #Asylanten bzw. #Migranten si...\n",
       "460    #dieanstalt #flüchtlinge und #Asylanten benöti...\n",
       "454    #Sexuallkunde für #Flüchtlinge und #Migranten ...\n",
       "220    90% aller #Asylanten wollen nur deshalb nach D...\n",
       "312    Fünf #Männer und eine devote #Frau! Wie immer ...\n",
       "393    #Flüchtlinge & ´#Asylanten  sind perverse #Kin...\n",
       "298    #cdu kapiert es nicht! Alle in europa ausser c...\n",
       "46     #Deutschland übt #Karneval nach den Regeln der...\n",
       "126    Warum ist #deutschland nicht solidarisch mit d...\n",
       "24     #illner. erst hieß es, es kämen nur top Arbeit...\n",
       "31     Geld aus der Portokasse von #Merkel, oder doch...\n",
       "346    Ich will diese muslimische #Invasion hier nich...\n",
       "118    Ich würde gern mal eine #Sondersendung zur täg...\n",
       "Name: Tweet, dtype: object"
      ]
     },
     "execution_count": 33,
     "metadata": {},
     "output_type": "execute_result"
    }
   ],
   "source": [
    "X_test[y_test > y_pred] #Hier noch die false negatives, heißt, fälschlicherweise als No Hates klassifiziert."
   ]
  },
  {
   "cell_type": "markdown",
   "metadata": {},
   "source": [
    "## Speichert euren trainierten Classifier für euch und die Nachwelt"
   ]
  },
  {
   "cell_type": "code",
   "execution_count": 34,
   "metadata": {},
   "outputs": [],
   "source": [
    "import joblib"
   ]
  },
  {
   "cell_type": "code",
   "execution_count": 35,
   "metadata": {},
   "outputs": [
    {
     "data": {
      "text/plain": [
       "['my_saved_model.pickle']"
      ]
     },
     "execution_count": 35,
     "metadata": {},
     "output_type": "execute_result"
    }
   ],
   "source": [
    "filename_model = \"my_saved_model.pickle\"\n",
    "joblib.dump(model, filename_model) \n",
    "#model heißt hier das Objekt, in dem der gefittete Classifier gespeichert ist (s. oben)."
   ]
  },
  {
   "cell_type": "markdown",
   "metadata": {},
   "source": [
    "Auch der Vectorizer (hier `vec` genannt, s. oben) muss mitgespeichert werden, da er an deinem Data Set die Features für die Classification gelernt hat."
   ]
  },
  {
   "cell_type": "code",
   "execution_count": 36,
   "metadata": {},
   "outputs": [
    {
     "data": {
      "text/plain": [
       "['my_saved_vec.pickle']"
      ]
     },
     "execution_count": 36,
     "metadata": {},
     "output_type": "execute_result"
    }
   ],
   "source": [
    "filename_vec = \"my_saved_vec.pickle\"\n",
    "joblib.dump(vec, filename_vec)"
   ]
  },
  {
   "cell_type": "markdown",
   "metadata": {},
   "source": [
    "### Lade das gespeicherte Model + Vectorizer und mache Predictions auf 3 neuen Kommentaren"
   ]
  },
  {
   "cell_type": "code",
   "execution_count": 37,
   "metadata": {},
   "outputs": [],
   "source": [
    "#Load a saved model + the vectorizer\n",
    "model = joblib.load(\"my_saved_model.pickle\")\n",
    "vec = joblib.load(\"my_saved_vec.pickle\")"
   ]
  },
  {
   "cell_type": "code",
   "execution_count": 38,
   "metadata": {},
   "outputs": [],
   "source": [
    "New_Comments = [\"Ich bin ein böser Hasskommentar\",\n",
    "                \"Ich hasse alle Menschen, fuck off\",\n",
    "                \"Ich liebe alle Menschen\"  \n",
    "]"
   ]
  },
  {
   "cell_type": "code",
   "execution_count": 39,
   "metadata": {},
   "outputs": [
    {
     "data": {
      "text/plain": [
       "array(['NO', 'NO', 'NO'], dtype=object)"
      ]
     },
     "execution_count": 39,
     "metadata": {},
     "output_type": "execute_result"
    }
   ],
   "source": [
    "model.predict(vec.transform(New_Comments)) #Hmm...scheint unser Model wohl noch verbesserungswürdig! ;)"
   ]
  },
  {
   "cell_type": "markdown",
   "metadata": {},
   "source": [
    "## Fertig!"
   ]
  }
 ],
 "metadata": {
  "kernelspec": {
   "display_name": "Python 3",
   "language": "python",
   "name": "python3"
  },
  "language_info": {
   "codemirror_mode": {
    "name": "ipython",
    "version": 3
   },
   "file_extension": ".py",
   "mimetype": "text/x-python",
   "name": "python",
   "nbconvert_exporter": "python",
   "pygments_lexer": "ipython3",
   "version": "3.8.5"
  }
 },
 "nbformat": 4,
 "nbformat_minor": 4
}
